{
 "cells": [
  {
   "cell_type": "markdown",
   "metadata": {},
   "source": [
    "# Analysis of Research Paper Bibliography"
   ]
  },
  {
   "cell_type": "code",
   "execution_count": 1,
   "metadata": {},
   "outputs": [],
   "source": [
    "import os\n",
    "import numpy as np\n",
    "import pandas as pd\n",
    "import matplotlib.pyplot as plt\n",
    "\n",
    "%matplotlib inline"
   ]
  },
  {
   "cell_type": "code",
   "execution_count": null,
   "metadata": {},
   "outputs": [],
   "source": []
  },
  {
   "cell_type": "code",
   "execution_count": null,
   "metadata": {},
   "outputs": [],
   "source": []
  },
  {
   "cell_type": "code",
   "execution_count": 3,
   "metadata": {},
   "outputs": [
    {
     "data": {
      "text/plain": [
       "['Zotero Exported Items.csv']"
      ]
     },
     "execution_count": 3,
     "metadata": {},
     "output_type": "execute_result"
    }
   ],
   "source": [
    "icloud_dir = \"/Users/billtubbs/Library/Mobile Documents/com~apple~CloudDocs/Documents\"\n",
    "project_dir = 'MyDocuments/Projects/SAG Mill Dynamic Optimization'\n",
    "sub_dir = 'Literature review/Zotero data'\n",
    "os.listdir(os.path.join(icloud_dir, project_dir, sub_dir))"
   ]
  },
  {
   "cell_type": "code",
   "execution_count": 4,
   "metadata": {},
   "outputs": [],
   "source": [
    "filename = 'Zotero Exported Items.csv'\n",
    "filepath = os.path.join(icloud_dir, project_dir, sub_dir, filename)\n",
    "df = pd.read_csv(filepath)"
   ]
  },
  {
   "cell_type": "code",
   "execution_count": 5,
   "metadata": {},
   "outputs": [
    {
     "data": {
      "text/plain": [
       "Index(['Key', 'Item Type', 'Publication Year', 'Author', 'Title',\n",
       "       'Publication Title', 'ISBN', 'ISSN', 'DOI', 'Url', 'Abstract Note',\n",
       "       'Date', 'Date Added', 'Date Modified', 'Access Date', 'Pages',\n",
       "       'Num Pages', 'Issue', 'Volume', 'Number Of Volumes',\n",
       "       'Journal Abbreviation', 'Short Title', 'Series', 'Series Number',\n",
       "       'Series Text', 'Series Title', 'Publisher', 'Place', 'Language',\n",
       "       'Rights', 'Type', 'Archive', 'Archive Location', 'Library Catalog',\n",
       "       'Call Number', 'Extra', 'Notes', 'File Attachments', 'Link Attachments',\n",
       "       'Manual Tags', 'Automatic Tags', 'Editor', 'Series Editor',\n",
       "       'Translator', 'Contributor', 'Attorney Agent', 'Book Author',\n",
       "       'Cast Member', 'Commenter', 'Composer', 'Cosponsor', 'Counsel',\n",
       "       'Interviewer', 'Producer', 'Recipient', 'Reviewed Author',\n",
       "       'Scriptwriter', 'Words By', 'Guest', 'Number', 'Edition',\n",
       "       'Running Time', 'Scale', 'Medium', 'Artwork Size', 'Filing Date',\n",
       "       'Application Number', 'Assignee', 'Issuing Authority', 'Country',\n",
       "       'Meeting Name', 'Conference Name', 'Court', 'References', 'Reporter',\n",
       "       'Legal Status', 'Priority Numbers', 'Programming Language', 'Version',\n",
       "       'System', 'Code', 'Code Number', 'Section', 'Session', 'Committee',\n",
       "       'History', 'Legislative Body'],\n",
       "      dtype='object')"
      ]
     },
     "execution_count": 5,
     "metadata": {},
     "output_type": "execute_result"
    }
   ],
   "source": [
    "df.columns"
   ]
  },
  {
   "cell_type": "code",
   "execution_count": 6,
   "metadata": {},
   "outputs": [
    {
     "data": {
      "text/plain": [
       "Key                   0.0\n",
       "Item Type             0.0\n",
       "Title                 0.0\n",
       "Date Added            0.0\n",
       "Date Modified         0.0\n",
       "Author                2.0\n",
       "File Attachments      4.0\n",
       "Publication Year     12.0\n",
       "Date                 12.0\n",
       "Abstract Note        19.0\n",
       "Manual Tags          24.0\n",
       "Publication Title    26.0\n",
       "Pages                29.0\n",
       "Url                  41.0\n",
       "Volume               43.0\n",
       "DOI                  48.0\n",
       "Language             49.0\n",
       "Library Catalog      51.0\n",
       "Access Date          61.0\n",
       "Issue                65.0\n",
       "dtype: float64"
      ]
     },
     "execution_count": 6,
     "metadata": {},
     "output_type": "execute_result"
    }
   ],
   "source": [
    "# Missing value counts / %\n",
    "(100 * df.isna().sum() / df.shape[0]).sort_values().round(0).head(20)"
   ]
  },
  {
   "cell_type": "code",
   "execution_count": 7,
   "metadata": {},
   "outputs": [
    {
     "data": {
      "text/plain": [
       "Minerals Engineering                                                    31\n",
       "International Journal of Mineral Processing                              9\n",
       "Powder Technology                                                        9\n",
       "Journal of Process Control                                               8\n",
       "IFAC-PapersOnLine                                                        7\n",
       "Advanced Control and Supervision of Mineral Processing Plants            5\n",
       "Modeling and Simulation of Mineral Processing Systems                    3\n",
       "arXiv:1805.12114 [cs, stat]                                              2\n",
       "KONA Powder and Particle Journal                                         2\n",
       "2016 IEEE International Conference on Robotics and Automation (ICRA)     2\n",
       "IFAC Proceedings Volumes                                                 2\n",
       "Industrial & Engineering Chemistry Research                              2\n",
       "Chemical Engineering Science                                             2\n",
       "ISA Transactions                                                         1\n",
       "Computers & Chemical Engineering                                         1\n",
       "arXiv:1803.07055                                                         1\n",
       "AIP Conference Proceedings                                               1\n",
       "Procedia CIRP                                                            1\n",
       "arXiv:1807.02303 [cs, stat]                                              1\n",
       "Bayesian brain: probabilistic approaches to neural coding                1\n",
       "Journal of the South African Institute of Mining and Metallurgy          1\n",
       "Optimization and Engineering                                             1\n",
       "Control Engineering Practice                                             1\n",
       "Medium                                                                   1\n",
       "IFAC Proceedings Volumes (IFAC-PapersOnline)                             1\n",
       "Engineering                                                              1\n",
       "arXiv:1802.03981 [cs, stat]                                              1\n",
       "arXiv:1806.09460 [cs, math, stat]                                        1\n",
       "Annual Review of Control, Robotics, and Autonomous Systems               1\n",
       "Review of Metallurgical Madrid                                           1\n",
       "Canadian Minerals Processors Operators Conference                        1\n",
       "Consolidation and validation of several tumbling mill power models       1\n",
       "Journal of the Taiwan Institute of Chemical Engineers                    1\n",
       "arXiv:1801.01290 [cs, stat]                                              1\n",
       "arXiv:1609.05191 [cs, math, stat]                                        1\n",
       "arXiv:1805.00909 [cs, stat]                                              1\n",
       "Cmp 2015                                                                 1\n",
       "Automatica                                                               1\n",
       "Mining, Metallurgy & Exploration                                         1\n",
       "Robotics: Science and Systems (RSS) 2018                                 1\n",
       "Information Sciences                                                     1\n",
       "arXiv:1803.07055 [cs, math, stat]                                        1\n",
       "LiLi - Zeitschrift für Literaturwissenschaft und Linguistik              1\n",
       "Computers and Chemical Engineering                                       1\n",
       "Advanced Model Predictive Control                                        1\n",
       "Sag 2006                                                                 1\n",
       "São Paulo                                                                1\n",
       "arXiv:1802.09081 [cs]                                                    1\n",
       "arXiv:1703.03078 [cs]                                                    1\n",
       "arXiv:1701.07274 [cs]                                                    1\n",
       "Nature                                                                   1\n",
       "Dynamic Modelling                                                        1\n",
       "Statewide Agricultural Land Use Baseline 2015                            1\n",
       "2008 47th IEEE Conference on Decision and Control                        1\n",
       "Name: Publication Title, dtype: int64"
      ]
     },
     "execution_count": 7,
     "metadata": {},
     "output_type": "execute_result"
    }
   ],
   "source": [
    "df['Publication Title'].value_counts()"
   ]
  },
  {
   "cell_type": "code",
   "execution_count": 8,
   "metadata": {},
   "outputs": [
    {
     "data": {
      "image/png": "[encoded data removed]",
      "text/plain": [
       "<Figure size 432x288 with 1 Axes>"
      ]
     },
     "metadata": {
      "needs_background": "light"
     },
     "output_type": "display_data"
    }
   ],
   "source": [
    "papers_by_year = pd.Series(df['Publication Year'].value_counts(), index=range(1990, 2019))\n",
    "papers_by_year.plot.bar()\n",
    "plt.title('Number of Papers by Year of Publication')\n",
    "plt.grid()"
   ]
  },
  {
   "cell_type": "code",
   "execution_count": 9,
   "metadata": {},
   "outputs": [
    {
     "data": {
      "text/plain": [
       "{str: 129, float: 41}"
      ]
     },
     "execution_count": 9,
     "metadata": {},
     "output_type": "execute_result"
    }
   ],
   "source": [
    "type_counts = {}\n",
    "tag_counts = {}\n",
    "\n",
    "type_counts = {}\n",
    "for tag_str in df['Manual Tags']:\n",
    "    object_type = type(tag_str)\n",
    "    type_counts[object_type] = type_counts.get(object_type, 0) + 1\n",
    "    if isinstance(tag_str, str):\n",
    "        tags = tag_str.split('; ')\n",
    "        for tag in tags:\n",
    "            tag_counts[tag] = tag_counts.get(tag, 0) + 1\n",
    "tag_counts = pd.Series(tag_counts)\n",
    "type_counts"
   ]
  },
  {
   "cell_type": "code",
   "execution_count": 10,
   "metadata": {},
   "outputs": [
    {
     "data": {
      "text/plain": [
       "Comminution                   31\n",
       "Crushing                       8\n",
       "Distributed control system     1\n",
       "Energy consumption            11\n",
       "Expert system                  6\n",
       "dtype: int64"
      ]
     },
     "execution_count": 10,
     "metadata": {},
     "output_type": "execute_result"
    }
   ],
   "source": [
    "tag_counts.head()"
   ]
  },
  {
   "cell_type": "code",
   "execution_count": 11,
   "metadata": {},
   "outputs": [
    {
     "data": {
      "text/plain": [
       "Priority 3    13\n",
       "Priority 1    21\n",
       "Priority 2    19\n",
       "dtype: int64"
      ]
     },
     "execution_count": 11,
     "metadata": {},
     "output_type": "execute_result"
    }
   ],
   "source": [
    "priority_tags = tag_counts.index.str.startswith('Priority')\n",
    "status_tags = tag_counts.index.str.startswith('Status')\n",
    "tag_counts[priority_tags]"
   ]
  },
  {
   "cell_type": "code",
   "execution_count": 12,
   "metadata": {},
   "outputs": [
    {
     "data": {
      "text/plain": [
       "Status - to read            24\n",
       "Status - Finished           14\n",
       "Status - reading in full    10\n",
       "Status - Partly read        18\n",
       "dtype: int64"
      ]
     },
     "execution_count": 12,
     "metadata": {},
     "output_type": "execute_result"
    }
   ],
   "source": [
    "tag_counts[status_tags]"
   ]
  },
  {
   "cell_type": "code",
   "execution_count": 13,
   "metadata": {},
   "outputs": [
    {
     "data": {
      "text/plain": [
       "Comminution                    31\n",
       "Crushing                        8\n",
       "Distributed control system      1\n",
       "Energy consumption             11\n",
       "Expert system                   6\n",
       "                               ..\n",
       "Ore grade sensing               1\n",
       "Locally linear embedding        1\n",
       "Dynamic data reconciliation     1\n",
       "Moving horizon estimation       1\n",
       "Loop tuning                     1\n",
       "Length: 167, dtype: int64"
      ]
     },
     "execution_count": 13,
     "metadata": {},
     "output_type": "execute_result"
    }
   ],
   "source": [
    "category_tags = tag_counts[~(priority_tags | status_tags)]\n",
    "category_tags"
   ]
  },
  {
   "cell_type": "code",
   "execution_count": 14,
   "metadata": {},
   "outputs": [
    {
     "data": {
      "image/png": "[encoded data removed]",
      "text/plain": [
       "<Figure size 432x288 with 1 Axes>"
      ]
     },
     "metadata": {
      "needs_background": "light"
     },
     "output_type": "display_data"
    }
   ],
   "source": [
    "category_tags.sort_values(ascending=False).head(20).plot.barh()\n",
    "plt.grid()\n",
    "plt.title('Most Common Tags')\n",
    "plt.xlabel('Number of papers')\n",
    "plt.show()"
   ]
  },
  {
   "cell_type": "code",
   "execution_count": 15,
   "metadata": {},
   "outputs": [
    {
     "data": {
      "text/plain": [
       "(170, 174)"
      ]
     },
     "execution_count": 15,
     "metadata": {},
     "output_type": "execute_result"
    }
   ],
   "source": [
    "# Produce a matrix of papers and tags\n",
    "rows = []\n",
    "for i, row in df[['Title', 'Short Title', 'Manual Tags']].iterrows():\n",
    "    tag_str = row['Manual Tags']\n",
    "    if isinstance(tag_str, str):\n",
    "        tags = tag_str.split('; ')\n",
    "    else:\n",
    "        tags = []\n",
    "    title = row['Short Title']\n",
    "    if not isinstance(title, str):\n",
    "        title = row['Title'][0:25]\n",
    "    tags_found = pd.Series({k: True for k in tags}, \n",
    "                           name=title)\n",
    "    rows.append(tags_found)\n",
    "\n",
    "tags_by_paper = pd.DataFrame(rows)\n",
    "tags_by_paper = tags_by_paper.fillna(False).sort_index(axis=1)\n",
    "tags_by_paper.shape"
   ]
  },
  {
   "cell_type": "code",
   "execution_count": 16,
   "metadata": {},
   "outputs": [],
   "source": [
    "tags_by_paper.replace({True: 1, False: 0}).to_csv('tags-by-paper.csv')"
   ]
  },
  {
   "cell_type": "code",
   "execution_count": 17,
   "metadata": {},
   "outputs": [
    {
     "data": {
      "text/plain": [
       "Index(['AG/SAG mill', 'APMonitor', 'ARX model', 'Adaptive control',\n",
       "       'Advanced process control', 'Advanced regulatory control',\n",
       "       'Analytical solution', 'Anomaly detection', 'Appearance model',\n",
       "       'Approximate dynamic programming',\n",
       "       ...\n",
       "       'System identification', 'Throughput', 'Tower mill', 'Training',\n",
       "       'Uncertainty', 'Unmeasured variables', 'Unsupervised learning',\n",
       "       'Variable speed drives', 'Visual sensors', 'Water balance'],\n",
       "      dtype='object', length=174)"
      ]
     },
     "execution_count": 17,
     "metadata": {},
     "output_type": "execute_result"
    }
   ],
   "source": [
    "tags_by_paper.columns"
   ]
  },
  {
   "cell_type": "code",
   "execution_count": 18,
   "metadata": {},
   "outputs": [
    {
     "data": {
      "text/plain": [
       "['Current Trends in SAG and',\n",
       " 'Model Predictive Control ',\n",
       " 'Model Predictive Control ',\n",
       " 'A plant-scale validated M',\n",
       " 'SAG Mill Optimization usi',\n",
       " 'Optimisation Of The Promi']"
      ]
     },
     "execution_count": 18,
     "metadata": {},
     "output_type": "execute_result"
    }
   ],
   "source": [
    "tags_by_paper.loc[tags_by_paper['Expert system']].index.tolist()"
   ]
  },
  {
   "cell_type": "code",
   "execution_count": null,
   "metadata": {},
   "outputs": [],
   "source": []
  },
  {
   "cell_type": "code",
   "execution_count": null,
   "metadata": {},
   "outputs": [],
   "source": []
  },
  {
   "cell_type": "code",
   "execution_count": null,
   "metadata": {},
   "outputs": [],
   "source": []
  },
  {
   "cell_type": "code",
   "execution_count": null,
   "metadata": {},
   "outputs": [],
   "source": []
  }
 ],
 "metadata": {
  "kernelspec": {
   "display_name": "Python [conda env:torch]",
   "language": "python",
   "name": "conda-env-torch-py"
  },
  "language_info": {
   "codemirror_mode": {
    "name": "ipython",
    "version": 3
   },
   "file_extension": ".py",
   "mimetype": "text/x-python",
   "name": "python",
   "nbconvert_exporter": "python",
   "pygments_lexer": "ipython3",
   "version": "3.7.4"
  }
 },
 "nbformat": 4,
 "nbformat_minor": 2
}
